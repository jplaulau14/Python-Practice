{
 "cells": [
  {
   "cell_type": "code",
   "execution_count": 1,
   "metadata": {},
   "outputs": [
    {
     "name": "stdout",
     "output_type": "stream",
     "text": [
      "Hello, Alice!\n",
      "Hello, Alice!\n"
     ]
    }
   ],
   "source": [
    "def repeat_twice(func):\n",
    "    def wrapper(*args, **kwargs):\n",
    "        func(*args, **kwargs)\n",
    "        func(*args, **kwargs)\n",
    "    return wrapper\n",
    "\n",
    "@repeat_twice\n",
    "def greet(name):\n",
    "    print(f\"Hello, {name}!\")\n",
    "\n",
    "greet(\"Alice\")\n"
   ]
  },
  {
   "cell_type": "code",
   "execution_count": 2,
   "metadata": {},
   "outputs": [
    {
     "name": "stdout",
     "output_type": "stream",
     "text": [
      "Attribute some_random_attribute not found\n",
      "Setting new_attribute to 10\n"
     ]
    }
   ],
   "source": [
    "class DynamicAttributes:\n",
    "    def __getattr__(self, name):\n",
    "        return f\"Attribute {name} not found\"\n",
    "\n",
    "    def __setattr__(self, name, value):\n",
    "        print(f\"Setting {name} to {value}\")\n",
    "        self.__dict__[name] = value\n",
    "\n",
    "obj = DynamicAttributes()\n",
    "print(obj.some_random_attribute)  # Invokes __getattr__\n",
    "obj.new_attribute = 10            # Invokes __setattr__\n"
   ]
  },
  {
   "cell_type": "code",
   "execution_count": 4,
   "metadata": {},
   "outputs": [
    {
     "name": "stdout",
     "output_type": "stream",
     "text": [
      "10\n"
     ]
    }
   ],
   "source": [
    "print(obj.new_attribute)"
   ]
  },
  {
   "cell_type": "code",
   "execution_count": 5,
   "metadata": {},
   "outputs": [
    {
     "name": "stdout",
     "output_type": "stream",
     "text": [
      "<h1>\n",
      "This is inside a header tag\n",
      "</h1>\n"
     ]
    }
   ],
   "source": [
    "from contextlib import contextmanager\n",
    "\n",
    "@contextmanager\n",
    "def tag(name):\n",
    "    print(f\"<{name}>\")\n",
    "    yield\n",
    "    print(f\"</{name}>\")\n",
    "\n",
    "with tag(\"h1\"):\n",
    "    print(\"This is inside a header tag\")\n"
   ]
  },
  {
   "cell_type": "code",
   "execution_count": 7,
   "metadata": {},
   "outputs": [
    {
     "name": "stdout",
     "output_type": "stream",
     "text": [
      "This is a new method!\n",
      "I'm new!\n"
     ]
    }
   ],
   "source": [
    "def decorator(cls):\n",
    "    class Wrapped(cls):\n",
    "        new_attribute = \"I'm new!\"\n",
    "\n",
    "        def new_method(self):\n",
    "            return \"This is a new method!\"\n",
    "    \n",
    "    return Wrapped\n",
    "\n",
    "@decorator\n",
    "class BaseClass:\n",
    "    pass\n",
    "\n",
    "instance = BaseClass()\n",
    "print(instance.new_method())  # Accessing the new method from the decorator\n",
    "print(instance.new_attribute) # Accessing the new attribute from the decorator"
   ]
  },
  {
   "cell_type": "code",
   "execution_count": 8,
   "metadata": {},
   "outputs": [
    {
     "name": "stdout",
     "output_type": "stream",
     "text": [
      "This function was defined at runtime!\n"
     ]
    }
   ],
   "source": [
    "code = \"\"\"\n",
    "def dynamic_function():\n",
    "    print(\"This function was defined at runtime!\")\n",
    "\"\"\"\n",
    "exec(code)\n",
    "dynamic_function()  # This will execute the dynamically defined function"
   ]
  },
  {
   "cell_type": "code",
   "execution_count": null,
   "metadata": {},
   "outputs": [],
   "source": []
  }
 ],
 "metadata": {
  "kernelspec": {
   "display_name": "Python 3",
   "language": "python",
   "name": "python3"
  },
  "language_info": {
   "codemirror_mode": {
    "name": "ipython",
    "version": 3
   },
   "file_extension": ".py",
   "mimetype": "text/x-python",
   "name": "python",
   "nbconvert_exporter": "python",
   "pygments_lexer": "ipython3",
   "version": "3.10.10"
  }
 },
 "nbformat": 4,
 "nbformat_minor": 2
}
